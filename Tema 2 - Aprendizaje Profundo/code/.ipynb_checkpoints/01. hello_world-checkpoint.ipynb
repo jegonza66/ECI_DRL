{
 "cells": [
  {
   "cell_type": "code",
   "execution_count": 1,
   "metadata": {
    "colab": {
     "base_uri": "https://localhost:8080/",
     "height": 119
    },
    "colab_type": "code",
    "executionInfo": {
     "elapsed": 797,
     "status": "ok",
     "timestamp": 1562370324493,
     "user": {
      "displayName": "Juan Gómez Romero",
      "photoUrl": "https://lh3.googleusercontent.com/--KQpBRYhxXY/AAAAAAAAAAI/AAAAAAAABtE/U-Fw_kyi3OQ/s64/photo.jpg",
      "userId": "14789599014876280017"
     },
     "user_tz": -120
    },
    "id": "a1atENnf2hit",
    "outputId": "ff465eeb-b5c7-4ff8-a59c-d437e9fc71f6"
   },
   "outputs": [
    {
     "name": "stdout",
     "output_type": "stream",
     "text": [
      "Hello, PyTorch. Are you there?\n",
      "PyTorch version:  1.1.0.post2\n",
      "CUDA IS NOT available\n"
     ]
    }
   ],
   "source": [
    "import torch\n",
    "\n",
    "print(\"Hello, PyTorch. Are you there?\")\n",
    "\n",
    "print(\"PyTorch version: \", torch.__version__)\n",
    "\n",
    "if torch.cuda.is_available():\n",
    "    print(\"CUDA IS available\")\n",
    "    print(\"Device:\", torch.cuda.current_device())\n",
    "    print(\"Device number:\", torch.cuda.device(0))\n",
    "    print(\"Device count:\", torch.cuda.device_count())\n",
    "    print(\"Device name:\", torch.cuda.get_device_name(0))\n",
    "else:\n",
    "    print(\"CUDA IS NOT available\")"
   ]
  }
 ],
 "metadata": {
  "accelerator": "GPU",
  "colab": {
   "collapsed_sections": [],
   "name": "hello_world.ipynb",
   "provenance": [],
   "version": "0.3.2"
  },
  "kernelspec": {
   "display_name": "Python 3",
   "language": "python",
   "name": "python3"
  },
  "language_info": {
   "codemirror_mode": {
    "name": "ipython",
    "version": 3
   },
   "file_extension": ".py",
   "mimetype": "text/x-python",
   "name": "python",
   "nbconvert_exporter": "python",
   "pygments_lexer": "ipython3",
   "version": "3.7.3"
  }
 },
 "nbformat": 4,
 "nbformat_minor": 4
}
