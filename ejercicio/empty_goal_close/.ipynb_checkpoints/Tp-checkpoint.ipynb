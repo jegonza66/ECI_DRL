{
 "cells": [
  {
   "cell_type": "markdown",
   "metadata": {},
   "source": [
    "# Implementación del código\n",
    "\n",
    "Se debe contener \"dqn_agent.py\" y \"model.py\" en la carpeta donde se encuentra el archivo \"Tp.ipynb\". Los mismos contienen la configuración de la red neuronal utilizada, y del agente que se entrenará. En este caso la red tiene dos capas ocultas de 64 nodos con una función de activación Relu a la salida de cada una. Por otro lado el archivo correspondiente a la configuración del agente tiene en el principio la configuración de ciertos parametros como el \"gamma\" el cual toma un valor de 0.99, y el \"lr\" el cual vale 0.0005. \n",
    "\n",
    "## Creación del entorno\n",
    "\n",
    "Se importa de la biblioteca gfootball el los entornos correspondientes y se crea el entorno a utilizar (en este caso \" academy_empty_goal_close\") con las configuraciones iniciales (como recompensa \"checkpoint\" que recompensa antes de marcar para facilitar el progreso).\n"
   ]
  },
  {
   "cell_type": "code",
   "execution_count": null,
   "metadata": {},
   "outputs": [],
   "source": [
    "import gfootball.env as football_env\n",
    "env = football_env.create_environment(\n",
    "    env_name='academy_empty_goal_close', \n",
    "    stacked=False,                           # solo estado, no pixeles \n",
    "    representation='simple115',              # solo estado, no pixeles \n",
    "    with_checkpoints=True,                   # recompensas intermedias, no solo al marcar \n",
    "    render=True)   "
   ]
  },
  {
   "cell_type": "markdown",
   "metadata": {},
   "source": [
    "## Importación de set de acciones\n",
    "\n",
    "Se importa el set de acciones de la misma biblioteca, se observa el espacio de estados y acciones posibles para el agente, los cuales tienen una dimensión de 115, y 21 correspondientemente. Se listan a continuación las acciones posibles."
   ]
  },
  {
   "cell_type": "code",
   "execution_count": null,
   "metadata": {},
   "outputs": [],
   "source": [
    "from gfootball.env import football_action_set\n",
    "print(env.observation_space)\n",
    "print(env.action_space)\n",
    "football_action_set.action_set_dict['default']"
   ]
  },
  {
   "cell_type": "markdown",
   "metadata": {},
   "source": [
    "## Importación de bibliotecas restantes y definición del agente\n",
    "\n",
    "Se desactivan los notificaciones \"Warning\" del logging.\n",
    "Se importa el agente y se configura su espacio de estados y acciones para corresponder con el del entorno elegido"
   ]
  },
  {
   "cell_type": "code",
   "execution_count": null,
   "metadata": {},
   "outputs": [],
   "source": [
    "import sys\n",
    "import gym\n",
    "import random\n",
    "import torch\n",
    "import numpy as np\n",
    "from collections import deque\n",
    "import matplotlib.pyplot as plt\n",
    "%matplotlib inline\n",
    "import logging, os\n",
    "logging.disable(logging.WARNING)\n",
    "from dqn_agent import Agent\n",
    "agent = Agent(state_size=115, action_size=21, seed=0)"
   ]
  },
  {
   "cell_type": "markdown",
   "metadata": {},
   "source": [
    "## Entrenamiento del agente\n",
    "\n",
    "Se especifican las condiciones de entrenamiento para el agente.\n",
    "El entrenamiento consistirá de 1000 episodios, en los cuales inicialmente el comportamiento del agente será 100% aleatorio, y disminuirá gradualemten hasta llegar a un 1% de comportamiento aleatorio. Luego el agente elegirá una acción, la implementará, almacenará el estado anterior, la acción tomada, la recompensa y el estado siguiente y se aprenderá. Este loop se repetirá hasta que el entorno devuelva un \"done\". \n",
    "\n",
    "Se guardan los puntajes obtenidos en cada paso, y además se priomedian los últimos 50 puntajes.\n",
    "Se imprime el progreso del entrenamiento, con los valores medios obtenidos en los últimos 50 episodios. \n",
    "Si el promedio obtenido es el mayor a todos los obtenidos hasta el momento, se guarda la red neuronal con el entrenamiento hasta el momento en un archivo .pth.\n",
    "(Es posible también determinar un valor promedio de puntuación esperado y guardar  la red entrenada cuando lo alcance y terminar el entrenamiento)"
   ]
  },
  {
   "cell_type": "code",
   "execution_count": null,
   "metadata": {},
   "outputs": [],
   "source": [
    "def dqn(n_episodes=5, batch_length=50, eps_start=1.0, eps_end=0.01, eps_decay=0.995):\n",
    "    \"\"\"Deep Q-Learning.\n",
    "    \n",
    "    Params\n",
    "    ======\n",
    "        n_episodes (int): numero maximo de episodios de entrenamiento (n_episodios)\n",
    "        max_t (int): numero maximo de pasos por episodio (n_entrenamiento)\n",
    "        eps_start (float): valor inicial de epsilon\n",
    "        eps_end (float): valor final de epsilon\n",
    "        eps_decay (float): factor de multiplicacion (por episodio) de epsilon\n",
    "    \"\"\"\n",
    "    scores = []                        # puntuaciones de cada episodio\n",
    "    scores_window = deque(maxlen=batch_length)  # puntuaciones de los ultimos 100 episodios\n",
    "    mean_scores = []\n",
    "    eps = eps_start                    # inicializar epsilon\n",
    "    promedio = 0\n",
    "    for i_episode in range(1, n_episodes+1):\n",
    "        state = env.reset()\n",
    "        acc_reward = 0\n",
    "        while True:\n",
    "            \n",
    "            # elegir accion At con politica e-greedy\n",
    "            action = agent.act(state, eps)\n",
    "            \n",
    "            # aplicar At y obtener Rt+1, St+1\n",
    "            observation, reward, done, info = env.step(action)\n",
    "            \n",
    "            # almacenar <St, At, Rt+1, St+1>\n",
    "            agent.memory.add(state, action, reward, observation, done)\n",
    "            \n",
    "            # train & update\n",
    "            agent.step(state, action, reward, observation, done)\n",
    "            \n",
    "            acc_reward += reward \n",
    "            \n",
    "            if done:\n",
    "                break \n",
    "\n",
    "        scores_window.append(acc_reward)       # guardar ultima puntuacion\n",
    "        scores.append(acc_reward)              # guardar ultima puntuacion\n",
    "        eps = max(eps_end, eps_decay*eps) # reducir epsilon\n",
    "        \n",
    "        if len(scores_window)==batch_length:    # guardar historial de promedios\n",
    "            promedio = np.mean(scores_window) \n",
    "        mean_scores.append(promedio)\n",
    "        \n",
    "        print('\\rEpisodio {}\\tPuntuacion media (ultimos {:d}): {:.2f}'.format(i_episode, i_episode-int(i_episode/batch_length)*batch_length, np.mean(scores_window)), end=\"\")\n",
    "        if i_episode % batch_length == 0:\n",
    "            print('\\rEpisodio {}\\tPuntuacion media ({:d} anteriores): {:.2f}'.format(i_episode, batch_length, np.mean(scores_window)))\n",
    "#         if np.mean(scores_window)>=1.90:\n",
    "#             print('\\nProblema resuelto en {:d} episodios!\\tPuntuacion media (ultimos {:d}): {:.2f}'.format(i_episode-50, 50, np.mean(scores_window)))\n",
    "#             torch.save(agent.qnetwork_local.state_dict(), 'checkpoint.pth') # guardar pesos de agente entrenado\n",
    "#             break\n",
    "        if len(scores_window)==batch_length and promedio >= max(mean_scores):\n",
    "            torch.save(agent.qnetwork_local.state_dict(), 'checkpoint.pth')\n",
    "    return scores\n",
    "\n",
    "scores = dqn()\n",
    "\n",
    "# plot the scores\n",
    "fig = plt.figure()\n",
    "ax = fig.add_subplot(111)\n",
    "plt.plot(np.arange(len(scores)), scores)\n",
    "plt.ylabel('Puntuacion')\n",
    "plt.xlabel('Episodio #')\n",
    "plt.show()"
   ]
  },
  {
   "cell_type": "markdown",
   "metadata": {},
   "source": [
    "## Agente entrenado\n",
    "Implementación del agente entrenado durante 50 episodios.\n",
    "\n",
    "Se carga el archivo \"checkpoint.pth\" con la red entrenada previamente, y se pone al agente a actuar sin aleatoriedad durante 50 episodios. Se grafican luego los resultados obtenidos en cada episodio."
   ]
  },
  {
   "cell_type": "code",
   "execution_count": 1,
   "metadata": {},
   "outputs": [
    {
     "data": {
      "text/plain": [
       "[idle,\n",
       " left,\n",
       " top_left,\n",
       " top,\n",
       " top_right,\n",
       " right,\n",
       " bottom_right,\n",
       " bottom,\n",
       " bottom_left,\n",
       " long_pass,\n",
       " high_pass,\n",
       " short_pass,\n",
       " shot,\n",
       " sprint,\n",
       " release_direction,\n",
       " release_sprint,\n",
       " keeper_rush,\n",
       " release_keeper_rush,\n",
       " sliding,\n",
       " dribble,\n",
       " release_dribble]"
      ]
     },
     "execution_count": 1,
     "metadata": {},
     "output_type": "execute_result"
    }
   ],
   "source": [
    "import gfootball.env as football_env\n",
    "env = football_env.create_environment(\n",
    "    env_name='academy_empty_goal_close', \n",
    "    stacked=False,                           # solo estado, no pixeles \n",
    "    representation='simple115',              # solo estado, no pixeles \n",
    "    with_checkpoints=True,                   # recompensas intermedias, no solo al marcar \n",
    "    render=True)   \n",
    "from gfootball.env import football_action_set\n",
    "football_action_set.action_set_dict['default']"
   ]
  },
  {
   "cell_type": "code",
   "execution_count": 2,
   "metadata": {},
   "outputs": [],
   "source": [
    "import sys\n",
    "import gym\n",
    "import random\n",
    "import torch\n",
    "import numpy as np\n",
    "from collections import deque\n",
    "import matplotlib.pyplot as plt\n",
    "%matplotlib inline\n",
    "import logging, os\n",
    "logging.disable(logging.WARNING)\n",
    "from dqn_agent import Agent\n",
    "agent = Agent(state_size=115, action_size=21, seed=0)"
   ]
  },
  {
   "cell_type": "code",
   "execution_count": 3,
   "metadata": {},
   "outputs": [
    {
     "name": "stdout",
     "output_type": "stream",
     "text": [
      "Episodio 50\tPuntuacion media: 2.00\n",
      "puntuación media final: 2.000000\n"
     ]
    },
    {
     "data": {
      "image/png": "[encoded data removed]",
      "text/plain": [
       "<Figure size 432x288 with 1 Axes>"
      ]
     },
     "metadata": {
      "needs_background": "light"
     },
     "output_type": "display_data"
    }
   ],
   "source": [
    "agent.qnetwork_local.load_state_dict(torch.load('checkpoint.pth'))\n",
    "\n",
    "scores = []                        # puntuaciones de cada episodio\n",
    "\n",
    "for i_episode in range(1, 51):\n",
    "    state = env.reset()\n",
    "    acc_reward = 0\n",
    "    while True:\n",
    "        # elegir accion At sin aleatoriedad\n",
    "        action = agent.act(state, 0.0)\n",
    "\n",
    "        # aplicar At y obtener Rt+1, St+1\n",
    "        observation, reward, done, info = env.step(action)\n",
    "        \n",
    "        acc_reward += reward\n",
    "       \n",
    "        if done:\n",
    "            break \n",
    "            \n",
    "    scores.append(acc_reward)              # guardar ultima puntuacion\n",
    "    print('\\rEpisodio {}\\tPuntuacion media: {:.2f}'.format(i_episode, np.mean(scores)), end=\"\")\n",
    "        \n",
    "env.close()\n",
    "\n",
    "print('\\npuntuación media final: %f' %np.mean(scores))\n",
    "\n",
    "# plot the scores\n",
    "fig = plt.figure()\n",
    "ax = fig.add_subplot(111)\n",
    "plt.plot(np.arange(len(scores)), scores, '.')\n",
    "plt.ylabel('Puntuacion')\n",
    "plt.xlabel('Episodio #')\n",
    "plt.show()\n"
   ]
  },
  {
   "cell_type": "markdown",
   "metadata": {},
   "source": [
    "### Comentarios\n",
    "\n",
    "Se observa que eventualmente el agente aprende a patear en dirección al arco como mejor acción al alcanzar un valor medio de aproximadamente 1.80. Sin embargo, por el método aquí propuesto en el que se guarda la red neuronal entrenada siempre que mejore los valores obtenidos previamente, se observa que el agente mejoró su puntaje al correr en dirección al arco en vez de patear, ya que pateando había ocasiones en que no acertaba al arco. \n",
    "\n",
    "## Otros entornos\n",
    "\n",
    "Se intentó entrenar un agente en el entorno \"academy_3_vs_1_with_keeper\". Para esto se modificó la red neuronal utilizada, agregado 6 capas ocultas (las dos primeras de 256 nodos, las segundas de 128, y las 2 últimas de 64) sin éxito. Se intentó también aprovechar el aprendizaje del primer agente en el entorno \"empty_goal_close\" el cual ya sabía patear al arco, pero esto no resultó. Claramente los estados en estos dos entornos son muy distintos debido a la cantidad de jugadores con las que cuenta el agente, y la configuración inicial distinta que encuentra."
   ]
  }
 ],
 "metadata": {
  "kernelspec": {
   "display_name": "Python 3",
   "language": "python",
   "name": "python3"
  },
  "language_info": {
   "codemirror_mode": {
    "name": "ipython",
    "version": 3
   },
   "file_extension": ".py",
   "mimetype": "text/x-python",
   "name": "python",
   "nbconvert_exporter": "python",
   "pygments_lexer": "ipython3",
   "version": "3.7.3"
  }
 },
 "nbformat": 4,
 "nbformat_minor": 4
}
